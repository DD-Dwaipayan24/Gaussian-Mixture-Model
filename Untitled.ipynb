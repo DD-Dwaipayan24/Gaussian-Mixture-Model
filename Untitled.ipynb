{
 "cells": [
  {
   "cell_type": "code",
   "execution_count": 1,
   "id": "13ae5b79-8961-4b43-9d75-6efdff1346c8",
   "metadata": {},
   "outputs": [],
   "source": [
    "#import packages\n",
    "import numpy as np\n",
    "import pandas as pd\n",
    "import matplotlib.pyplot as graph\n",
    "import math\n",
    "import warnings\n",
    "warnings.filterwarnings(\"ignore\")\n"
   ]
  },
  {
   "cell_type": "code",
   "execution_count": 11,
   "id": "ac5dd441-232d-4673-8134-c829c934c2e5",
   "metadata": {},
   "outputs": [
    {
     "data": {
      "text/plain": [
       "[matrix([[ 7.05966197, -2.51816259],\n",
       "         [-2.51816259,  2.73063655]]),\n",
       " matrix([[ 6.71259101, -2.33174731],\n",
       "         [-2.33174731,  2.65614093]]),\n",
       " matrix([[ 6.46053053, -2.31201507],\n",
       "         [-2.31201507,  2.53182129]]),\n",
       " matrix([[ 6.37434739, -2.26965129],\n",
       "         [-2.26965129,  2.77463199]])]"
      ]
     },
     "execution_count": 11,
     "metadata": {},
     "output_type": "execute_result"
    }
   ],
   "source": [
    "# defining functions\n",
    "def data_matrix(data):\n",
    "    # data as a matrix format\n",
    "    X = []\n",
    "    for i in range(len(data)):\n",
    "        X.append(np.array(data.iloc[i]))\n",
    "    return (np.matrix(X))\n",
    "\n",
    "# defining the mean\n",
    "def mean(prob_mat,data):\n",
    "    X = data_matrix(data)\n",
    "    means = []\n",
    "    for i in range(len(prob_mat)):\n",
    "        x = 0\n",
    "        y = 0\n",
    "        for j in range(len(prob_mat[0])):\n",
    "            x += prob_mat[i][j] * X[j].T\n",
    "            y += prob_mat[i][j]\n",
    "        means.append(x/y)\n",
    "    return means\n",
    "def covariance(prob_mat,data):\n",
    "    X = data_matrix(data)\n",
    "    cov = []\n",
    "    means = mean(prob_mat,data)\n",
    "    for i in range(len(prob_mat)):\n",
    "        x = 0\n",
    "        y = 0\n",
    "        for j in range(len(prob_mat[0])):\n",
    "            x += prob_mat[i][j] * np.matmul((X[j].T - means[i]),(X[j].T - means[i]).T)\n",
    "            y += prob_mat[i][j]\n",
    "        cov.append(x/(y-1))\n",
    "    return cov\n",
    "        \n",
    "#defining multivariate gaussian distribution\n",
    "def multi_gauss_dis(prob_mat , data):\n",
    "    means = mean(prob_mat , data)\n",
    "    cov = covariance(prob_mat , data)\n",
    "    X = data_matrix(data)\n",
    "    Q = np.empty([len(prob_mat) , len(prob_mat[0])])\n",
    "    # print(np.shape(Q))\n",
    "    for i in range(len(prob_mat)):\n",
    "        for j in range(len(prob_mat[0])):\n",
    "            Q[i][j]  = float(1/(2 * math.pi * np.linalg.det(cov[i])*np.matmul((X[j] - means[i].T),np.matmul(np.linalg.inv(cov[i]),(X[j].T - means[i])))))\n",
    "            # print(Q[i][j])\n",
    "    return Q\n",
    "\n",
    "#defining probability of each class\n",
    "def class_probability(prob_mat , data):\n",
    "    class_prob = []\n",
    "    for i in range(len(prob_mat)):\n",
    "        x = 0\n",
    "        for j in range(len(prob_mat[0])):\n",
    "            x += prob_mat[i][j]\n",
    "        class_prob.append(x/len(data))\n",
    "    return class_prob\n",
    "\n",
    "\n",
    "def calculate_class(data , prob_mat):\n",
    "    t = np.zeros([len(prob_mat),len(prob_mat[0])])\n",
    "    X = data_matrix(data)\n",
    "    Q = multi_gauss_dis(prob_mat , data)\n",
    "    prob_class = class_probability(prob_mat , data)\n",
    "    for i in range(len(Q)):\n",
    "        for j in range(len(Q[0])):\n",
    "            Q[i][j] = prob_class[i] * Q[i][j]\n",
    "    x = []\n",
    "    for i in range(len(Q[0])):\n",
    "        x.append(np.argmax(Q[:,i]))\n",
    "    # print(x)\n",
    "    j = 0\n",
    "    for i in range(len(prob_mat[0])):\n",
    "        t[:,i][x[j]] = 1.0\n",
    "        j +=1\n",
    "    return t\n",
    "def Gaussian_mixture_model(prob_mat , data):\n",
    "    for i in range(10):\n",
    "        # E step\n",
    "        print(i)\n",
    "        prob_mat = calculate_class(data , prob_mat)\n",
    "        print(prob_mat)\n",
    "    return prob_mat"
   ]
  },
  {
   "cell_type": "code",
   "execution_count": 19,
   "id": "565547d3-fc4a-4374-85d2-07fcaa40c0b5",
   "metadata": {},
   "outputs": [],
   "source": [
    "prob_mat = [[1,0,0,0]*400,[0,1,0,0]*400,[0,0,1,0]*400,[0,0,0,1]*400]\n"
   ]
  },
  {
   "cell_type": "code",
   "execution_count": 18,
   "id": "9fd2472d-24b6-48db-a618-ee429aefcbff",
   "metadata": {},
   "outputs": [],
   "source": [
    "\n",
    "data = pd.read_csv(\"Data1.csv\")\n",
    "data = pd.read_csv(\"Data1.csv\", names = ['x' + str(i+1) for i in range(len(data.columns))])\n",
    "data = data.drop('x1',axis = 1)\n",
    "data =data.drop(0,axis = 0)\n"
   ]
  },
  {
   "cell_type": "code",
   "execution_count": 14,
   "id": "5d45be47-7cad-4d86-a1b0-e8d854594c41",
   "metadata": {},
   "outputs": [],
   "source": [
    "from Gaussian_mixture_model import Gaussian_mixture_model"
   ]
  },
  {
   "cell_type": "code",
   "execution_count": 21,
   "id": "be19b2d7-df22-4ba9-a3c9-83773fab6ba5",
   "metadata": {},
   "outputs": [
    {
     "name": "stdout",
     "output_type": "stream",
     "text": [
      "[[1. 0. 0. ... 1. 0. 0.]\n",
      " [0. 1. 0. ... 0. 0. 0.]\n",
      " [0. 0. 1. ... 0. 1. 0.]\n",
      " [0. 0. 0. ... 0. 0. 1.]]\n",
      "[[1. 0. 0. ... 1. 0. 0.]\n",
      " [0. 1. 0. ... 0. 0. 0.]\n",
      " [0. 0. 1. ... 0. 1. 0.]\n",
      " [0. 0. 0. ... 0. 0. 1.]]\n",
      "[[1. 0. 0. ... 1. 0. 0.]\n",
      " [0. 1. 0. ... 0. 0. 0.]\n",
      " [0. 0. 1. ... 0. 1. 0.]\n",
      " [0. 0. 0. ... 0. 0. 1.]]\n",
      "[[1. 0. 0. ... 1. 0. 0.]\n",
      " [0. 1. 0. ... 0. 0. 0.]\n",
      " [0. 0. 1. ... 0. 1. 0.]\n",
      " [0. 0. 0. ... 0. 0. 1.]]\n",
      "[[1. 0. 0. ... 1. 0. 0.]\n",
      " [0. 1. 0. ... 0. 0. 0.]\n",
      " [0. 0. 1. ... 0. 1. 0.]\n",
      " [0. 0. 0. ... 0. 0. 1.]]\n",
      "[[1. 0. 0. ... 1. 0. 0.]\n",
      " [0. 1. 0. ... 0. 0. 0.]\n",
      " [0. 0. 1. ... 0. 1. 0.]\n",
      " [0. 0. 0. ... 0. 0. 1.]]\n",
      "[[1. 0. 0. ... 1. 0. 0.]\n",
      " [0. 1. 0. ... 0. 0. 0.]\n",
      " [0. 0. 1. ... 0. 1. 0.]\n",
      " [0. 0. 0. ... 0. 0. 1.]]\n",
      "[[1. 0. 0. ... 1. 0. 0.]\n",
      " [0. 1. 0. ... 0. 0. 0.]\n",
      " [0. 0. 1. ... 0. 1. 0.]\n",
      " [0. 0. 0. ... 0. 0. 1.]]\n",
      "[[1. 0. 0. ... 1. 0. 0.]\n",
      " [0. 1. 0. ... 0. 0. 0.]\n",
      " [0. 0. 1. ... 0. 1. 0.]\n",
      " [0. 0. 0. ... 0. 0. 1.]]\n",
      "[[1. 0. 0. ... 1. 0. 0.]\n",
      " [0. 1. 0. ... 0. 0. 0.]\n",
      " [0. 0. 1. ... 0. 1. 0.]\n",
      " [0. 0. 0. ... 0. 0. 1.]]\n"
     ]
    }
   ],
   "source": [
    "gmm = Gaussian_mixture_model()\n",
    "prob_mat = gmm.fit(prob_mat,data)\n",
    "c1,c2,c3,c4 = gmm.cluster_alloc(prob_mat,data)"
   ]
  },
  {
   "cell_type": "code",
   "execution_count": 23,
   "id": "06a34e1d-fdd5-40b2-9e55-b261f7fdafa7",
   "metadata": {},
   "outputs": [
    {
     "name": "stdout",
     "output_type": "stream",
     "text": [
      "(401, 1, 2)\n",
      "(398, 1, 2)\n",
      "(400, 1, 2)\n",
      "(401, 1, 2)\n"
     ]
    }
   ],
   "source": [
    "print(np.shape(c1))\n",
    "print(np.shape(c2))\n",
    "print(np.shape(c3))\n",
    "print(np.shape(c4))\n"
   ]
  },
  {
   "cell_type": "code",
   "execution_count": 24,
   "id": "200007c3-24a4-4fea-a362-a5bd5439c969",
   "metadata": {},
   "outputs": [
    {
     "data": {
      "text/plain": [
       "<matplotlib.legend.Legend at 0x7f7e34fd2ef0>"
      ]
     },
     "execution_count": 24,
     "metadata": {},
     "output_type": "execute_result"
    },
    {
     "data": {
      "image/png": "[encoded data removed]",
      "text/plain": [
       "<Figure size 432x288 with 1 Axes>"
      ]
     },
     "metadata": {
      "needs_background": "light"
     },
     "output_type": "display_data"
    }
   ],
   "source": [
    "graph.scatter([float(i[:,0]) for i in c1],[float(i[:,1]) for i in c1],c = 'r', label = 'cluster 1')\n",
    "graph.scatter([float(i[:,0]) for i in c2],[float(i[:,1]) for i in c2],c = 'b', label = 'cluster 2')\n",
    "graph.scatter([float(i[:,0]) for i in c3],[float(i[:,1]) for i in c3],c = 'g', label = 'cluster 3')\n",
    "graph.scatter([float(i[:,0]) for i in c4],[float(i[:,1]) for i in c4],c = 'y', label = 'cluster 4')\n",
    "graph.xlabel(\"First attrsibute\")\n",
    "graph.ylabel(\"second attribute\")\n",
    "graph.title(\"2D scatter plot\")\n",
    "graph.legend()"
   ]
  },
  {
   "cell_type": "code",
   "execution_count": null,
   "id": "77ce0ef1-6c8b-44cc-968a-d88a99a5c4b1",
   "metadata": {},
   "outputs": [],
   "source": []
  }
 ],
 "metadata": {
  "kernelspec": {
   "display_name": "Python 3 (ipykernel)",
   "language": "python",
   "name": "python3"
  },
  "language_info": {
   "codemirror_mode": {
    "name": "ipython",
    "version": 3
   },
   "file_extension": ".py",
   "mimetype": "text/x-python",
   "name": "python",
   "nbconvert_exporter": "python",
   "pygments_lexer": "ipython3",
   "version": "3.10.12"
  }
 },
 "nbformat": 4,
 "nbformat_minor": 5
}
