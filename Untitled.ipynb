{
 "cells": [
  {
   "cell_type": "code",
   "execution_count": 1,
   "id": "3181b07f-3584-4bd6-85de-107938c295d8",
   "metadata": {},
   "outputs": [],
   "source": [
    "#import packages\n",
    "import numpy as np\n",
    "import pandas as pd\n",
    "import matplotlib.pyplot as graph\n",
    "import math\n",
    "import warnings\n",
    "warnings.filterwarnings(\"ignore\")\n"
   ]
  },
  {
   "cell_type": "markdown",
   "id": "13fb180c-6134-41dc-94ea-854bf51457bf",
   "metadata": {},
   "source": [
    "## 1. Apply model based clustering on Data 1\\\r",
    "## \n",
    "(a) Report the number of clusters and the technique used to find th \r\n",
    "number of cluster\\\n",
    "s## .\r\n",
    "(b) Plot the cluste\\\\\n",
    "r## s.\r\n",
    "(c) Report the mean, co-variance matrix and prior probability corre￾sponding to each clus\\t\n",
    "## er.\r\n",
    "(d) Assess the quality of the clus\\\\ters.\r"
   ]
  },
  {
   "cell_type": "code",
   "execution_count": 29,
   "id": "4045276d-f412-4d45-9e06-11d97431ae19",
   "metadata": {},
   "outputs": [],
   "source": [
    "# defining functions\n",
    "def data_matrix(data):\n",
    "    X = []\n",
    "    for i in range(len(data)):\n",
    "        X.append(np.array(data.iloc[i]))\n",
    "    return (np.array(X))\n",
    "def calculate_class(p,class_probability,data):\n",
    "    X = data_matrix(data)\n",
    "    classes = []\n",
    "    point_allot_probability = []\n",
    "    for i in range(len(data)):\n",
    "        x = []\n",
    "        for j in range(len(class_probability)):\n",
    "            x.append(class_probability[j]*p[j][i])    \n",
    "        classes.append(np.argmax(x))\n",
    "    return classes\n",
    "def Gaussian_mixture_model(data):\n",
    "    number_of_clusters = 4\n",
    "    X = data_matrix(data)\n",
    "    class_probability = []\n",
    "    sums = []\n",
    "    mean = []\n",
    "    covariance = []\n",
    "    p = np.zeros((number_of_clusters,len(data)))\n",
    "    q = np.zeros((number_of_clusters,len(data)))\n",
    "    mean  = [np.array([0,0]).T,np.array([1,0]).T,np.array([0,1]).T,np.array([1,1]).T]\n",
    "    for i in range(number_of_clusters):\n",
    "        covariance.append(np.eye(len(data.columns)))\n",
    "        class_probability.append(0.5)\n",
    "    classes = [np.ones(len(data)),np.zeros(len(data))]\n",
    "    # while np.linalg.norm(classes[1] - classes[0]) > 0.00001:\n",
    "    for i in range(10):\n",
    "        classes[0] = classes[1]\n",
    "        # E step\n",
    "        prob_den = 0\n",
    "        prob_dens = []\n",
    "        for i in range(number_of_clusters):\n",
    "            for j in range(len(data)):\n",
    "                q[i][j] = 1/((2 * math.pi) * (np.linalg.det(covariance[i]))) * float(np.matmul((X[j].T - mean[i]).T,np.matmul(np.linalg.inv(covariance[i]),(X[j].T - mean[i]))))\n",
    "        print(q)\n",
    "        for j in range(len(data)):\n",
    "            prob_den = 0\n",
    "            for i in range(number_of_clusters):\n",
    "                prob_den += class_probability[i] * q[i][j]\n",
    "            prob_dens.append(prob_den)\n",
    "        for i in range(number_of_clusters):\n",
    "            for j in range(len(data)):\n",
    "                p[i][j] = (class_probability[i] * q[i][j])/prob_dens[j]\n",
    "        classes[1] = calculate_class(p,class_probability,data)\n",
    "        print(mean)\n",
    "        # M step\n",
    "        class_probability = []\n",
    "        sums = []\n",
    "        mean = []\n",
    "        covariance = []\n",
    "        for i in range(number_of_clusters):\n",
    "            x = 0\n",
    "            for j in range(len(data)):\n",
    "                x += p[i][j]\n",
    "            sums.append(x)\n",
    "        for i in range(number_of_clusters):\n",
    "            means = 0\n",
    "            covariances = 0\n",
    "            for j in range(len(data)):\n",
    "                means += p[i][j]*X[j].T\n",
    "            means = means/sums[i]\n",
    "            for j in range(len(data)):\n",
    "                covariances += p[i][j] * np.matmul((X[j].T - means),(X[j].T - means).T)\n",
    "            covariances = covariances/(sums[i] - 1)\n",
    "            mean.append(means)\n",
    "            covariance.append(covariances)\n",
    "            class_probability.append(sums[i]/len(data))\n",
    "    return classes,mean,covariance"
   ]
  },
  {
   "cell_type": "code",
   "execution_count": 30,
   "id": "ee73d69f-d58f-407c-ad37-682ad45876b0",
   "metadata": {},
   "outputs": [
    {
     "data": {
      "text/plain": [
       "array([[ 0.        ,  1.        ],\n",
       "       [ 1.00493938,  2.31988727],\n",
       "       [ 3.41265319, -1.63715745],\n",
       "       ...,\n",
       "       [ 0.81499613,  2.24692662],\n",
       "       [ 7.99969769, -1.81102433],\n",
       "       [ 4.0077954 ,  0.12183353]])"
      ]
     },
     "execution_count": 30,
     "metadata": {},
     "output_type": "execute_result"
    }
   ],
   "source": [
    "\n",
    "data = pd.read_csv(\"Data1.csv\")\n",
    "data = pd.read_csv(\"Data1.csv\", names = ['x' + str(i+1) for i in range(len(data.columns))])\n",
    "# unsup_data = data.drop('x3',axis = 1)\n",
    "data = data.drop('x1',axis = 1)\n",
    "X = data_matrix(data)\n",
    "X"
   ]
  },
  {
   "cell_type": "code",
   "execution_count": 20,
   "id": "17e368b3-b08b-4a33-9795-06678779d715",
   "metadata": {},
   "outputs": [],
   "source": [
    "# # data['x1'] = data['x1'].fillna(0)\n",
    "# for i in range(len(data.columns)):\n",
    "#     data['x' + str(i+1)] = data['x' + str(i+1)].fillna(0)"
   ]
  },
  {
   "cell_type": "code",
   "execution_count": 5,
   "id": "4dd1341e-aeb1-411b-a4fb-71f3ff3b1628",
   "metadata": {},
   "outputs": [
    {
     "data": {
      "image/png": "[encoded data removed]",
      "text/plain": [
       "<Figure size 640x480 with 1 Axes>"
      ]
     },
     "metadata": {},
     "output_type": "display_data"
    }
   ],
   "source": [
    "# Plotting the data\n",
    "x = [data['x2'][i] for i in range(len(data))]\n",
    "y = [data['x3'][i] for i in range(len(data))] \n",
    "graph.scatter(x,y)\n",
    "graph.title(\"simple 3D scatter plot\")\n",
    " \n",
    "# show plot\n",
    "graph.show()"
   ]
  },
  {
   "cell_type": "code",
   "execution_count": 31,
   "id": "8120863d-7ba7-4dc9-b434-6277ec44a1f9",
   "metadata": {},
   "outputs": [
    {
     "name": "stdout",
     "output_type": "stream",
     "text": [
      "[[ 0.15915494  1.0172834   2.28013112 ...  0.90923595 10.70714437\n",
      "   2.55877657]\n",
      " [ 0.31830989  0.8565562   1.35300481 ...  0.80896956  8.31991645\n",
      "   1.44221062]\n",
      " [ 0.          0.43799529  2.96040946 ...  0.35317193 11.44276626\n",
      "   2.6791507 ]\n",
      " [ 0.15915494  0.27726809  2.03328316 ...  0.25290555  9.05553835\n",
      "   1.56258474]]\n",
      "[array([0, 0]), array([1, 0]), array([0, 1]), array([1, 1])]\n"
     ]
    },
    {
     "ename": "LinAlgError",
     "evalue": "0-dimensional array given. Array must be at least two-dimensional",
     "output_type": "error",
     "traceback": [
      "\u001b[1;31m---------------------------------------------------------------------------\u001b[0m",
      "\u001b[1;31mLinAlgError\u001b[0m                               Traceback (most recent call last)",
      "Cell \u001b[1;32mIn[31], line 1\u001b[0m\n\u001b[1;32m----> 1\u001b[0m classes,mean,covariance \u001b[38;5;241m=\u001b[39m \u001b[43mGaussian_mixture_model\u001b[49m\u001b[43m(\u001b[49m\u001b[43mdata\u001b[49m\u001b[43m)\u001b[49m\n\u001b[0;32m      2\u001b[0m mean\n",
      "Cell \u001b[1;32mIn[29], line 39\u001b[0m, in \u001b[0;36mGaussian_mixture_model\u001b[1;34m(data)\u001b[0m\n\u001b[0;32m     37\u001b[0m \u001b[38;5;28;01mfor\u001b[39;00m i \u001b[38;5;129;01min\u001b[39;00m \u001b[38;5;28mrange\u001b[39m(number_of_clusters):\n\u001b[0;32m     38\u001b[0m     \u001b[38;5;28;01mfor\u001b[39;00m j \u001b[38;5;129;01min\u001b[39;00m \u001b[38;5;28mrange\u001b[39m(\u001b[38;5;28mlen\u001b[39m(data)):\n\u001b[1;32m---> 39\u001b[0m         q[i][j] \u001b[38;5;241m=\u001b[39m \u001b[38;5;241m1\u001b[39m\u001b[38;5;241m/\u001b[39m((\u001b[38;5;241m2\u001b[39m \u001b[38;5;241m*\u001b[39m math\u001b[38;5;241m.\u001b[39mpi) \u001b[38;5;241m*\u001b[39m (\u001b[43mnp\u001b[49m\u001b[38;5;241;43m.\u001b[39;49m\u001b[43mlinalg\u001b[49m\u001b[38;5;241;43m.\u001b[39;49m\u001b[43mdet\u001b[49m\u001b[43m(\u001b[49m\u001b[43mcovariance\u001b[49m\u001b[43m[\u001b[49m\u001b[43mi\u001b[49m\u001b[43m]\u001b[49m\u001b[43m)\u001b[49m)) \u001b[38;5;241m*\u001b[39m \u001b[38;5;28mfloat\u001b[39m(np\u001b[38;5;241m.\u001b[39mmatmul((X[j]\u001b[38;5;241m.\u001b[39mT \u001b[38;5;241m-\u001b[39m mean[i])\u001b[38;5;241m.\u001b[39mT,np\u001b[38;5;241m.\u001b[39mmatmul(np\u001b[38;5;241m.\u001b[39mlinalg\u001b[38;5;241m.\u001b[39minv(covariance[i]),(X[j]\u001b[38;5;241m.\u001b[39mT \u001b[38;5;241m-\u001b[39m mean[i]))))\n\u001b[0;32m     40\u001b[0m \u001b[38;5;28mprint\u001b[39m(q)\n\u001b[0;32m     41\u001b[0m \u001b[38;5;28;01mfor\u001b[39;00m j \u001b[38;5;129;01min\u001b[39;00m \u001b[38;5;28mrange\u001b[39m(\u001b[38;5;28mlen\u001b[39m(data)):\n",
      "File \u001b[1;32m<__array_function__ internals>:200\u001b[0m, in \u001b[0;36mdet\u001b[1;34m(*args, **kwargs)\u001b[0m\n",
      "File \u001b[1;32m~\\AppData\\Roaming\\jupyterlab-desktop\\jlab_server\\lib\\site-packages\\numpy\\linalg\\linalg.py:2135\u001b[0m, in \u001b[0;36mdet\u001b[1;34m(a)\u001b[0m\n\u001b[0;32m   2087\u001b[0m \u001b[38;5;250m\u001b[39m\u001b[38;5;124;03m\"\"\"\u001b[39;00m\n\u001b[0;32m   2088\u001b[0m \u001b[38;5;124;03mCompute the determinant of an array.\u001b[39;00m\n\u001b[0;32m   2089\u001b[0m \n\u001b[1;32m   (...)\u001b[0m\n\u001b[0;32m   2132\u001b[0m \n\u001b[0;32m   2133\u001b[0m \u001b[38;5;124;03m\"\"\"\u001b[39;00m\n\u001b[0;32m   2134\u001b[0m a \u001b[38;5;241m=\u001b[39m asarray(a)\n\u001b[1;32m-> 2135\u001b[0m \u001b[43m_assert_stacked_2d\u001b[49m\u001b[43m(\u001b[49m\u001b[43ma\u001b[49m\u001b[43m)\u001b[49m\n\u001b[0;32m   2136\u001b[0m _assert_stacked_square(a)\n\u001b[0;32m   2137\u001b[0m t, result_t \u001b[38;5;241m=\u001b[39m _commonType(a)\n",
      "File \u001b[1;32m~\\AppData\\Roaming\\jupyterlab-desktop\\jlab_server\\lib\\site-packages\\numpy\\linalg\\linalg.py:183\u001b[0m, in \u001b[0;36m_assert_stacked_2d\u001b[1;34m(*arrays)\u001b[0m\n\u001b[0;32m    181\u001b[0m \u001b[38;5;28;01mfor\u001b[39;00m a \u001b[38;5;129;01min\u001b[39;00m arrays:\n\u001b[0;32m    182\u001b[0m     \u001b[38;5;28;01mif\u001b[39;00m a\u001b[38;5;241m.\u001b[39mndim \u001b[38;5;241m<\u001b[39m \u001b[38;5;241m2\u001b[39m:\n\u001b[1;32m--> 183\u001b[0m         \u001b[38;5;28;01mraise\u001b[39;00m LinAlgError(\u001b[38;5;124m'\u001b[39m\u001b[38;5;132;01m%d\u001b[39;00m\u001b[38;5;124m-dimensional array given. Array must be \u001b[39m\u001b[38;5;124m'\u001b[39m\n\u001b[0;32m    184\u001b[0m                 \u001b[38;5;124m'\u001b[39m\u001b[38;5;124mat least two-dimensional\u001b[39m\u001b[38;5;124m'\u001b[39m \u001b[38;5;241m%\u001b[39m a\u001b[38;5;241m.\u001b[39mndim)\n",
      "\u001b[1;31mLinAlgError\u001b[0m: 0-dimensional array given. Array must be at least two-dimensional"
     ]
    }
   ],
   "source": [
    "classes,mean,covariance = Gaussian_mixture_model(data)\n",
    "mean"
   ]
  },
  {
   "cell_type": "code",
   "execution_count": 52,
   "id": "d7be31eb-bf6b-4680-a6e6-dacc673a290a",
   "metadata": {},
   "outputs": [
    {
     "data": {
      "text/plain": [
       "array([[0.25, 0.25, 0.25, ..., 0.25, 0.25, 0.25],\n",
       "       [0.25, 0.25, 0.25, ..., 0.25, 0.25, 0.25],\n",
       "       [0.25, 0.25, 0.25, ..., 0.25, 0.25, 0.25],\n",
       "       [0.25, 0.25, 0.25, ..., 0.25, 0.25, 0.25]])"
      ]
     },
     "execution_count": 52,
     "metadata": {},
     "output_type": "execute_result"
    }
   ],
   "source": [
    "# for E step\n",
    "X = data_matrix(data)\n",
    "prob_den = 0\n",
    "prob_dens = []\n",
    "for i in range(number_of_clusters):\n",
    "    for j in range(len(data)):\n",
    "        q[i][j] = 1/((2 * math.pi) * (np.linalg.det(covariance[i]))**0.5) * np.matmul((X[j] - mean[i]),np.matmul(np.linalg.inv(covariance[i]),(X[j] - mean[i]).T))\n",
    "for j in range(len(data)):\n",
    "    prob_den = 0\n",
    "    for i in range(number_of_clusters):\n",
    "        prob_den += class_probability[i] * q[i][j]\n",
    "    prob_dens.append(prob_den)\n",
    "for i in range(number_of_clusters):\n",
    "    for j in range(len(data)):\n",
    "        p[i][j] = (class_probability[i] * q[i][j])/prob_dens[j]\n",
    "p"
   ]
  },
  {
   "cell_type": "code",
   "execution_count": 53,
   "id": "e9ee9cf6-7e5f-48a0-bd22-93d307db3d2c",
   "metadata": {},
   "outputs": [],
   "source": [
    "# for M step\n",
    "sums = []\n",
    "mean = []\n",
    "covariance = []\n",
    "class_probability = []\n",
    "for i in range(number_of_clusters):\n",
    "    x = 0\n",
    "    for j in range(len(data)):\n",
    "        x += p[i][j]\n",
    "    sums.append(x)\n",
    "for i in range(number_of_clusters):\n",
    "    means = 0\n",
    "    covariances = 0\n",
    "    for j in range(len(data)):\n",
    "        means += p[i][j]*X[j]\n",
    "    means = means/sums[i]\n",
    "    for j in range(len(data)):\n",
    "        covariances += p[i][j] * np.matmul((X[j] - means).T,(X[j] - means))\n",
    "    covariances = covariances/(sums[i] - 1)\n",
    "    mean.append(means)\n",
    "    covariance.append(covariances)\n",
    "    class_probability.append(sums[i]/len(data))\n"
   ]
  },
  {
   "cell_type": "code",
   "execution_count": 58,
   "id": "013f3ed8-83ff-465b-a0de-06fddbbf7628",
   "metadata": {},
   "outputs": [
    {
     "data": {
      "text/plain": [
       "[array([3.97700697, 0.0336856 ]),\n",
       " array([3.97700697, 0.0336856 ]),\n",
       " array([3.97700697, 0.0336856 ]),\n",
       " array([3.97700697, 0.0336856 ])]"
      ]
     },
     "execution_count": 58,
     "metadata": {},
     "output_type": "execute_result"
    }
   ],
   "source": [
    "covariance\n",
    "mean"
   ]
  },
  {
   "cell_type": "code",
   "execution_count": 27,
   "id": "52c49f6a-0ee8-47f8-aff4-b9cca78ef30d",
   "metadata": {},
   "outputs": [
    {
     "data": {
      "text/plain": [
       "1.0"
      ]
     },
     "execution_count": 27,
     "metadata": {},
     "output_type": "execute_result"
    }
   ],
   "source": [
    "np.linalg.det(covariance[0])\n"
   ]
  },
  {
   "cell_type": "code",
   "execution_count": 14,
   "id": "07b8fe73-0ee1-4564-82ed-bdb6c4034149",
   "metadata": {},
   "outputs": [
    {
     "data": {
      "text/plain": [
       "array([0., 1.])"
      ]
     },
     "execution_count": 14,
     "metadata": {},
     "output_type": "execute_result"
    }
   ],
   "source": [
    "X[0]"
   ]
  },
  {
   "cell_type": "markdown",
   "id": "be610e90-4c63-4322-8edd-e4702b0a850a",
   "metadata": {},
   "source": [
    "### using inbuild library"
   ]
  },
  {
   "cell_type": "code",
   "execution_count": 9,
   "id": "fea6c187-4b9b-43c7-98a6-258a7a77134c",
   "metadata": {},
   "outputs": [],
   "source": []
  },
  {
   "cell_type": "code",
   "execution_count": 10,
   "id": "9e6c56e7-ba81-4b91-b782-c94f6069eb11",
   "metadata": {},
   "outputs": [],
   "source": [
    "X = data_matrix(data)"
   ]
  },
  {
   "cell_type": "code",
   "execution_count": 7,
   "id": "322783d0-f94b-4d59-a3a2-8c0eef8e70f9",
   "metadata": {},
   "outputs": [],
   "source": [
    "import numpy as np\n",
    "import pandas as pd\n",
    "import matplotlib.pyplot as graph\n",
    "from sklearn import mixture"
   ]
  },
  {
   "cell_type": "code",
   "execution_count": 8,
   "id": "4451103e-5c44-4b50-a6ee-758ba019178a",
   "metadata": {},
   "outputs": [
    {
     "data": {
      "text/html": [
       "<style>#sk-container-id-1 {color: black;}#sk-container-id-1 pre{padding: 0;}#sk-container-id-1 div.sk-toggleable {background-color: white;}#sk-container-id-1 label.sk-toggleable__label {cursor: pointer;display: block;width: 100%;margin-bottom: 0;padding: 0.3em;box-sizing: border-box;text-align: center;}#sk-container-id-1 label.sk-toggleable__label-arrow:before {content: \"▸\";float: left;margin-right: 0.25em;color: #696969;}#sk-container-id-1 label.sk-toggleable__label-arrow:hover:before {color: black;}#sk-container-id-1 div.sk-estimator:hover label.sk-toggleable__label-arrow:before {color: black;}#sk-container-id-1 div.sk-toggleable__content {max-height: 0;max-width: 0;overflow: hidden;text-align: left;background-color: #f0f8ff;}#sk-container-id-1 div.sk-toggleable__content pre {margin: 0.2em;color: black;border-radius: 0.25em;background-color: #f0f8ff;}#sk-container-id-1 input.sk-toggleable__control:checked~div.sk-toggleable__content {max-height: 200px;max-width: 100%;overflow: auto;}#sk-container-id-1 input.sk-toggleable__control:checked~label.sk-toggleable__label-arrow:before {content: \"▾\";}#sk-container-id-1 div.sk-estimator input.sk-toggleable__control:checked~label.sk-toggleable__label {background-color: #d4ebff;}#sk-container-id-1 div.sk-label input.sk-toggleable__control:checked~label.sk-toggleable__label {background-color: #d4ebff;}#sk-container-id-1 input.sk-hidden--visually {border: 0;clip: rect(1px 1px 1px 1px);clip: rect(1px, 1px, 1px, 1px);height: 1px;margin: -1px;overflow: hidden;padding: 0;position: absolute;width: 1px;}#sk-container-id-1 div.sk-estimator {font-family: monospace;background-color: #f0f8ff;border: 1px dotted black;border-radius: 0.25em;box-sizing: border-box;margin-bottom: 0.5em;}#sk-container-id-1 div.sk-estimator:hover {background-color: #d4ebff;}#sk-container-id-1 div.sk-parallel-item::after {content: \"\";width: 100%;border-bottom: 1px solid gray;flex-grow: 1;}#sk-container-id-1 div.sk-label:hover label.sk-toggleable__label {background-color: #d4ebff;}#sk-container-id-1 div.sk-serial::before {content: \"\";position: absolute;border-left: 1px solid gray;box-sizing: border-box;top: 0;bottom: 0;left: 50%;z-index: 0;}#sk-container-id-1 div.sk-serial {display: flex;flex-direction: column;align-items: center;background-color: white;padding-right: 0.2em;padding-left: 0.2em;position: relative;}#sk-container-id-1 div.sk-item {position: relative;z-index: 1;}#sk-container-id-1 div.sk-parallel {display: flex;align-items: stretch;justify-content: center;background-color: white;position: relative;}#sk-container-id-1 div.sk-item::before, #sk-container-id-1 div.sk-parallel-item::before {content: \"\";position: absolute;border-left: 1px solid gray;box-sizing: border-box;top: 0;bottom: 0;left: 50%;z-index: -1;}#sk-container-id-1 div.sk-parallel-item {display: flex;flex-direction: column;z-index: 1;position: relative;background-color: white;}#sk-container-id-1 div.sk-parallel-item:first-child::after {align-self: flex-end;width: 50%;}#sk-container-id-1 div.sk-parallel-item:last-child::after {align-self: flex-start;width: 50%;}#sk-container-id-1 div.sk-parallel-item:only-child::after {width: 0;}#sk-container-id-1 div.sk-dashed-wrapped {border: 1px dashed gray;margin: 0 0.4em 0.5em 0.4em;box-sizing: border-box;padding-bottom: 0.4em;background-color: white;}#sk-container-id-1 div.sk-label label {font-family: monospace;font-weight: bold;display: inline-block;line-height: 1.2em;}#sk-container-id-1 div.sk-label-container {text-align: center;}#sk-container-id-1 div.sk-container {/* jupyter's `normalize.less` sets `[hidden] { display: none; }` but bootstrap.min.css set `[hidden] { display: none !important; }` so we also need the `!important` here to be able to override the default hidden behavior on the sphinx rendered scikit-learn.org. See: https://github.com/scikit-learn/scikit-learn/issues/21755 */display: inline-block !important;position: relative;}#sk-container-id-1 div.sk-text-repr-fallback {display: none;}</style><div id=\"sk-container-id-1\" class=\"sk-top-container\"><div class=\"sk-text-repr-fallback\"><pre>GaussianMixture(n_components=4)</pre><b>In a Jupyter environment, please rerun this cell to show the HTML representation or trust the notebook. <br />On GitHub, the HTML representation is unable to render, please try loading this page with nbviewer.org.</b></div><div class=\"sk-container\" hidden><div class=\"sk-item\"><div class=\"sk-estimator sk-toggleable\"><input class=\"sk-toggleable__control sk-hidden--visually\" id=\"sk-estimator-id-1\" type=\"checkbox\" checked><label for=\"sk-estimator-id-1\" class=\"sk-toggleable__label sk-toggleable__label-arrow\">GaussianMixture</label><div class=\"sk-toggleable__content\"><pre>GaussianMixture(n_components=4)</pre></div></div></div></div></div>"
      ],
      "text/plain": [
       "GaussianMixture(n_components=4)"
      ]
     },
     "execution_count": 8,
     "metadata": {},
     "output_type": "execute_result"
    }
   ],
   "source": [
    "gm = mixture.GaussianMixture(n_components = 4)\n",
    "gm.fit(X)"
   ]
  },
  {
   "cell_type": "code",
   "execution_count": 9,
   "id": "8e4af5bb-7fd2-4107-b724-af0cfe97c541",
   "metadata": {},
   "outputs": [],
   "source": [
    "y_pred = gm.predict(X)"
   ]
  },
  {
   "cell_type": "code",
   "execution_count": 10,
   "id": "59cc4c96-1222-4f93-a1ab-db60363accbc",
   "metadata": {},
   "outputs": [
    {
     "data": {
      "text/plain": [
       "[0, 1, 2, 3]"
      ]
     },
     "execution_count": 10,
     "metadata": {},
     "output_type": "execute_result"
    }
   ],
   "source": [
    "c = list(set(y_pred))\n",
    "c"
   ]
  },
  {
   "cell_type": "code",
   "execution_count": 11,
   "id": "b283b444-6777-4c70-8e4d-ef463a304875",
   "metadata": {},
   "outputs": [],
   "source": [
    "c1 = X[y_pred == 0]\n",
    "c2 = X[y_pred == 1]\n",
    "c3 = X[y_pred == 2]\n",
    "c4 = X[y_pred == 3]\n",
    "\n"
   ]
  },
  {
   "cell_type": "code",
   "execution_count": 12,
   "id": "9423e683-b9e7-4805-a870-94a9368c92b1",
   "metadata": {},
   "outputs": [],
   "source": [
    "# c2 = X[y_pred == 1]"
   ]
  },
  {
   "cell_type": "code",
   "execution_count": 13,
   "id": "2ae81c31-f373-41a3-835c-ae34aa97c1de",
   "metadata": {},
   "outputs": [],
   "source": [
    "# graph.scatter(c1[:,0] , c1[:,1] , c = 'blue')\n"
   ]
  },
  {
   "cell_type": "code",
   "execution_count": 14,
   "id": "5fd0dc3b-d01c-4eb6-b96c-0045160ad4fb",
   "metadata": {},
   "outputs": [
    {
     "data": {
      "text/plain": [
       "<matplotlib.legend.Legend at 0x240255d8670>"
      ]
     },
     "execution_count": 14,
     "metadata": {},
     "output_type": "execute_result"
    },
    {
     "data": {
      "image/png": "[encoded data removed]",
      "text/plain": [
       "<Figure size 640x480 with 1 Axes>"
      ]
     },
     "metadata": {},
     "output_type": "display_data"
    }
   ],
   "source": [
    "# Creating figure\n",
    "graph.scatter(c1[:,0],c1[:,1],c = 'g', label = \"Class_1\")\n",
    "graph.scatter(c2[:,0],c2[:,1],c = 'b', label = \"Class_2\")\n",
    "graph.scatter(c3[:,0],c3[:,1],c = 'r', label = \"Class_3\")\n",
    "graph.scatter(c4[:,0],c4[:,1],c = 'y', label = \"Class_4\")\n",
    "\n",
    "graph.legend()\n"
   ]
  },
  {
   "cell_type": "code",
   "execution_count": 10,
   "id": "925057f3-0a70-413d-83bb-0c45c2334c90",
   "metadata": {},
   "outputs": [],
   "source": [
    "t = [np.array([0,0]),np.array([1,0]),np.array([0,1]),np.array([1,1])]"
   ]
  },
  {
   "cell_type": "code",
   "execution_count": 14,
   "id": "5d497d99-696f-43fd-ba28-c0037cadfd71",
   "metadata": {},
   "outputs": [
    {
     "data": {
      "text/plain": [
       "1"
      ]
     },
     "execution_count": 14,
     "metadata": {},
     "output_type": "execute_result"
    }
   ],
   "source": [
    "t[1][0]"
   ]
  },
  {
   "cell_type": "code",
   "execution_count": 25,
   "id": "50c7e45a-007d-47c9-a77a-b67867cc7243",
   "metadata": {},
   "outputs": [
    {
     "data": {
      "text/plain": [
       "array([[ 0.        ,  1.00493938,  3.41265319, ...,  0.81499613,\n",
       "         7.99969769,  4.0077954 ],\n",
       "       [ 1.        ,  2.31988727, -1.63715745, ...,  2.24692662,\n",
       "        -1.81102433,  0.12183353]])"
      ]
     },
     "execution_count": 25,
     "metadata": {},
     "output_type": "execute_result"
    }
   ],
   "source": [
    "data_matrix(data)"
   ]
  },
  {
   "cell_type": "code",
   "execution_count": null,
   "id": "77280192-eee2-4eaa-9872-3387309e9eba",
   "metadata": {},
   "outputs": [],
   "source": []
  }
 ],
 "metadata": {
  "kernelspec": {
   "display_name": "Python 3 (ipykernel)",
   "language": "python",
   "name": "python3"
  },
  "language_info": {
   "codemirror_mode": {
    "name": "ipython",
    "version": 3
   },
   "file_extension": ".py",
   "mimetype": "text/x-python",
   "name": "python",
   "nbconvert_exporter": "python",
   "pygments_lexer": "ipython3",
   "version": "3.8.18"
  }
 },
 "nbformat": 4,
 "nbformat_minor": 5
}
