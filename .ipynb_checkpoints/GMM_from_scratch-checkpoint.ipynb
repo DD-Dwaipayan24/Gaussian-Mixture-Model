{
 "cells": [
  {
   "cell_type": "code",
   "execution_count": 2,
   "id": "3181b07f-3584-4bd6-85de-107938c295d8",
   "metadata": {},
   "outputs": [],
   "source": [
    "#import packages\n",
    "import numpy as np\n",
    "import pandas as pd\n",
    "import matplotlib.pyplot as graph\n",
    "import math\n",
    "import warnings\n",
    "warnings.filterwarnings(\"ignore\")\n"
   ]
  },
  {
   "cell_type": "code",
   "execution_count": 52,
   "id": "4045276d-f412-4d45-9e06-11d97431ae19",
   "metadata": {},
   "outputs": [],
   "source": [
    "# defining functions\n",
    "def data_matrix(data):\n",
    "    # data as a matrix format\n",
    "    X = []\n",
    "    for i in range(len(data)):\n",
    "        X.append(np.array(data.iloc[i]))\n",
    "    return (np.matrix(X))\n",
    "\n",
    "# defining the mean\n",
    "def mean(prob_mat,data):\n",
    "    X = data_matrix(data)\n",
    "    means = []\n",
    "    for i in range(len(prob_mat)):\n",
    "        x = 0\n",
    "        y = 0\n",
    "        for j in range(len(prob_mat[0])):\n",
    "            x += prob_mat[i][j] * X[j].T\n",
    "            y += prob_mat[i][j]\n",
    "        means.append(x/y)\n",
    "    return means\n",
    "def covariance(prob_mat,data):\n",
    "    X = data_matrix(data)\n",
    "    cov = []\n",
    "    means = mean(prob_mat,data)\n",
    "    for i in range(len(prob_mat)):\n",
    "        x = 0\n",
    "        y = 0\n",
    "        for j in range(len(prob_mat[0])):\n",
    "            x += prob_mat[i][j] * np.matmul((X[j].T - means[i]),(X[j].T - means[i]).T)\n",
    "            y += prob_mat[i][j]\n",
    "        cov.append(x/(y-1))\n",
    "    return cov\n",
    "        \n",
    "#defining multivariate gaussian distribution\n",
    "def multi_gauss_dis(prob_mat , data):\n",
    "    means = mean(prob_mat , data)\n",
    "    cov = covariance(prob_mat , data)\n",
    "    X = data_matrix(data)\n",
    "    Q = prob_mat\n",
    "    for i in range(len(prob_mat)):\n",
    "        for j in range(len(prob_mat[0])):\n",
    "           Q[i][j]  = float(1/(2 * math.pi * np.linalg.det(cov[i])*np.matmul((X[j] - means[i].T),np.matmul(np.linalg.inv(cov[i]),(X[j].T - means[i])))))\n",
    "    return Q\n",
    "\n",
    "#defining probability of each class\n",
    "def class_probability(prob_mat , data):\n",
    "    class_prob = []\n",
    "    for i in range(len(prob_mat)):\n",
    "        x = 0\n",
    "        for j in range(len(prob_mat[0])):\n",
    "            x += prob_mat[i][j]\n",
    "        class_prob.append(x/len(data))\n",
    "    return class_prob\n",
    "\n",
    "\n",
    "def calculate_class(data , prob_mat):\n",
    "    t = np.zeros([len(prob_mat),len(prob_mat[0])])\n",
    "    X = data_matrix(data)\n",
    "    Q = multi_gauss_dis(prob_mat , data)\n",
    "    prob_class = class_probability(prob_mat , data)\n",
    "    for i in range(len(Q)):\n",
    "        for j in range(len(Q[0])):\n",
    "            Q[i][j] = prob_class[i] * Q[i][j]\n",
    "    x = []\n",
    "    for i in range(len(Q[0])):\n",
    "        x.append(np.argmax(Q[:,i]))\n",
    "    for i in range(len(prob_mat)):\n",
    "        for j in x:\n",
    "            t[i][j] = 1\n",
    "    return t\n",
    "def Gaussian_mixture_model(data):\n",
    "    number_of_clusters = 4\n",
    "    X = data_matrix(data)\n",
    "    class_probability = []\n",
    "    sums = []\n",
    "    mean = []\n",
    "    covariance = []\n",
    "    p = np.zeros((number_of_clusters,len(data)))\n",
    "    q = np.zeros((number_of_clusters,len(data)))\n",
    "    mean  = [np.array([0,0]).T,np.array([1,0]).T,np.array([0,1]).T,np.array([1,1]).T]\n",
    "    for i in range(number_of_clusters):\n",
    "        covariance.append(np.eye(len(data.columns)))\n",
    "        class_probability.append(0.5)\n",
    "    prob_mat = [[0,1]*int(len(data)/2),[1,0]*int(len(data)/2)]\n",
    "    # while np.linalg.norm(classes[1] - classes[0]) > 0.00001:\n",
    "    for i in range(10):\n",
    "        # E step\n",
    "        prob_mat = calculate_class(data , prob_mat)\n",
    "    return prob_mat"
   ]
  },
  {
   "cell_type": "code",
   "execution_count": 97,
   "id": "361c9277-ba32-49a5-bb67-a065b43e7716",
   "metadata": {},
   "outputs": [
    {
     "data": {
      "text/plain": [
       "array([[0, 0, 0, ..., 0, 0, 2],\n",
       "       [0, 0, 0, ..., 0, 0, 2]])"
      ]
     },
     "execution_count": 97,
     "metadata": {},
     "output_type": "execute_result"
    }
   ],
   "source": [
    "prob_mat = np.array([[0,1]*800,[1,0]*800])\n",
    "# t = Gaussian_mixture_model(data)\n",
    "Q = multi_gauss_dis(prob_mat,data)\n",
    "covariance(prob_mat,data)\n",
    "Q"
   ]
  },
  {
   "cell_type": "code",
   "execution_count": 42,
   "id": "85619c07-3f27-4ce8-90c9-b05471a8f3fe",
   "metadata": {},
   "outputs": [
    {
     "data": {
      "text/plain": [
       "[[0, 1, 0, 1, 0, 1]]"
      ]
     },
     "execution_count": 42,
     "metadata": {},
     "output_type": "execute_result"
    }
   ],
   "source": [
    "x = [[0,1]*3],[,]\n",
    "x"
   ]
  },
  {
   "cell_type": "code",
   "execution_count": 96,
   "id": "ee73d69f-d58f-407c-ad37-682ad45876b0",
   "metadata": {},
   "outputs": [
    {
     "data": {
      "text/plain": [
       "matrix([[ 1.00493938,  2.31988727],\n",
       "        [ 3.41265319, -1.63715745],\n",
       "        [ 7.48331843, -1.39924959],\n",
       "        ...,\n",
       "        [ 0.81499613,  2.24692662],\n",
       "        [ 7.99969769, -1.81102433],\n",
       "        [ 4.0077954 ,  0.12183353]])"
      ]
     },
     "execution_count": 96,
     "metadata": {},
     "output_type": "execute_result"
    }
   ],
   "source": [
    "\n",
    "data = pd.read_csv(\"Data1.csv\")\n",
    "data = pd.read_csv(\"Data1.csv\", names = ['x' + str(i+1) for i in range(len(data.columns))])\n",
    "# unsup_data = data.drop('x3',axis = 1)\n",
    "data = data.drop('x1',axis = 1)\n",
    "data =data.drop(0,axis = 0)\n",
    "X = data_matrix(data)\n",
    "# prob_mat = np.array([[1,0],[0,1]])\n",
    "# mean(prob_mat , data)\n",
    "# covariance(prob_mat , data)\n",
    "X"
   ]
  },
  {
   "cell_type": "code",
   "execution_count": 20,
   "id": "17e368b3-b08b-4a33-9795-06678779d715",
   "metadata": {},
   "outputs": [],
   "source": [
    "# # data['x1'] = data['x1'].fillna(0)\n",
    "# for i in range(len(data.columns)):\n",
    "#     data['x' + str(i+1)] = data['x' + str(i+1)].fillna(0)"
   ]
  },
  {
   "cell_type": "code",
   "execution_count": 5,
   "id": "4dd1341e-aeb1-411b-a4fb-71f3ff3b1628",
   "metadata": {},
   "outputs": [
    {
     "data": {
      "image/png": "[encoded data removed]",
      "text/plain": [
       "<Figure size 640x480 with 1 Axes>"
      ]
     },
     "metadata": {},
     "output_type": "display_data"
    }
   ],
   "source": [
    "# Plotting the data\n",
    "x = [data['x2'][i] for i in range(len(data))]\n",
    "y = [data['x3'][i] for i in range(len(data))] \n",
    "graph.scatter(x,y)\n",
    "graph.title(\"simple 3D scatter plot\")\n",
    " \n",
    "# show plot\n",
    "graph.show()"
   ]
  },
  {
   "cell_type": "code",
   "execution_count": 37,
   "id": "8120863d-7ba7-4dc9-b434-6277ec44a1f9",
   "metadata": {},
   "outputs": [
    {
     "ename": "TypeError",
     "evalue": "list indices must be integers or slices, not tuple",
     "output_type": "error",
     "traceback": [
      "\u001b[0;31m---------------------------------------------------------------------------\u001b[0m",
      "\u001b[0;31mTypeError\u001b[0m                                 Traceback (most recent call last)",
      "\u001b[0;32m/tmp/ipykernel_13233/731126300.py\u001b[0m in \u001b[0;36m<module>\u001b[0;34m\u001b[0m\n\u001b[0;32m----> 1\u001b[0;31m \u001b[0mt\u001b[0m \u001b[0;34m=\u001b[0m \u001b[0mGaussian_mixture_model\u001b[0m\u001b[0;34m(\u001b[0m\u001b[0mdata\u001b[0m\u001b[0;34m)\u001b[0m\u001b[0;34m\u001b[0m\u001b[0;34m\u001b[0m\u001b[0m\n\u001b[0m\u001b[1;32m      2\u001b[0m \u001b[0mt\u001b[0m\u001b[0;34m\u001b[0m\u001b[0;34m\u001b[0m\u001b[0m\n",
      "\u001b[0;32m/tmp/ipykernel_13233/636239962.py\u001b[0m in \u001b[0;36mGaussian_mixture_model\u001b[0;34m(data)\u001b[0m\n\u001b[1;32m     86\u001b[0m     \u001b[0;32mfor\u001b[0m \u001b[0mi\u001b[0m \u001b[0;32min\u001b[0m \u001b[0mrange\u001b[0m\u001b[0;34m(\u001b[0m\u001b[0;36m10\u001b[0m\u001b[0;34m)\u001b[0m\u001b[0;34m:\u001b[0m\u001b[0;34m\u001b[0m\u001b[0;34m\u001b[0m\u001b[0m\n\u001b[1;32m     87\u001b[0m         \u001b[0;31m# E step\u001b[0m\u001b[0;34m\u001b[0m\u001b[0;34m\u001b[0m\u001b[0m\n\u001b[0;32m---> 88\u001b[0;31m         \u001b[0mprob_mat\u001b[0m \u001b[0;34m=\u001b[0m \u001b[0mcalculate_class\u001b[0m\u001b[0;34m(\u001b[0m\u001b[0mdata\u001b[0m \u001b[0;34m,\u001b[0m \u001b[0mprob_mat\u001b[0m\u001b[0;34m)\u001b[0m\u001b[0;34m\u001b[0m\u001b[0;34m\u001b[0m\u001b[0m\n\u001b[0m\u001b[1;32m     89\u001b[0m     \u001b[0;32mreturn\u001b[0m \u001b[0mprob_mat\u001b[0m\u001b[0;34m\u001b[0m\u001b[0;34m\u001b[0m\u001b[0m\n",
      "\u001b[0;32m/tmp/ipykernel_13233/636239962.py\u001b[0m in \u001b[0;36mcalculate_class\u001b[0;34m(data, prob_mat)\u001b[0m\n\u001b[1;32m     64\u001b[0m     \u001b[0mx\u001b[0m \u001b[0;34m=\u001b[0m \u001b[0;34m[\u001b[0m\u001b[0;34m]\u001b[0m\u001b[0;34m\u001b[0m\u001b[0;34m\u001b[0m\u001b[0m\n\u001b[1;32m     65\u001b[0m     \u001b[0;32mfor\u001b[0m \u001b[0mi\u001b[0m \u001b[0;32min\u001b[0m \u001b[0mrange\u001b[0m\u001b[0;34m(\u001b[0m\u001b[0mlen\u001b[0m\u001b[0;34m(\u001b[0m\u001b[0mQ\u001b[0m\u001b[0;34m[\u001b[0m\u001b[0;36m0\u001b[0m\u001b[0;34m]\u001b[0m\u001b[0;34m)\u001b[0m\u001b[0;34m)\u001b[0m\u001b[0;34m:\u001b[0m\u001b[0;34m\u001b[0m\u001b[0;34m\u001b[0m\u001b[0m\n\u001b[0;32m---> 66\u001b[0;31m         \u001b[0mx\u001b[0m\u001b[0;34m.\u001b[0m\u001b[0mappend\u001b[0m\u001b[0;34m(\u001b[0m\u001b[0mnp\u001b[0m\u001b[0;34m.\u001b[0m\u001b[0margmax\u001b[0m\u001b[0;34m(\u001b[0m\u001b[0mQ\u001b[0m\u001b[0;34m[\u001b[0m\u001b[0;34m:\u001b[0m\u001b[0;34m,\u001b[0m\u001b[0mi\u001b[0m\u001b[0;34m]\u001b[0m\u001b[0;34m)\u001b[0m\u001b[0;34m)\u001b[0m\u001b[0;34m\u001b[0m\u001b[0;34m\u001b[0m\u001b[0m\n\u001b[0m\u001b[1;32m     67\u001b[0m     \u001b[0;32mfor\u001b[0m \u001b[0mi\u001b[0m \u001b[0;32min\u001b[0m \u001b[0mrange\u001b[0m\u001b[0;34m(\u001b[0m\u001b[0mlen\u001b[0m\u001b[0;34m(\u001b[0m\u001b[0mprob_mat\u001b[0m\u001b[0;34m)\u001b[0m\u001b[0;34m)\u001b[0m\u001b[0;34m:\u001b[0m\u001b[0;34m\u001b[0m\u001b[0;34m\u001b[0m\u001b[0m\n\u001b[1;32m     68\u001b[0m         \u001b[0;32mfor\u001b[0m \u001b[0mj\u001b[0m \u001b[0;32min\u001b[0m \u001b[0mx\u001b[0m\u001b[0;34m:\u001b[0m\u001b[0;34m\u001b[0m\u001b[0;34m\u001b[0m\u001b[0m\n",
      "\u001b[0;31mTypeError\u001b[0m: list indices must be integers or slices, not tuple"
     ]
    }
   ],
   "source": [
    "t = Gaussian_mixture_model(data)\n",
    "t"
   ]
  },
  {
   "cell_type": "code",
   "execution_count": 52,
   "id": "d7be31eb-bf6b-4680-a6e6-dacc673a290a",
   "metadata": {},
   "outputs": [
    {
     "data": {
      "text/plain": [
       "array([[0.25, 0.25, 0.25, ..., 0.25, 0.25, 0.25],\n",
       "       [0.25, 0.25, 0.25, ..., 0.25, 0.25, 0.25],\n",
       "       [0.25, 0.25, 0.25, ..., 0.25, 0.25, 0.25],\n",
       "       [0.25, 0.25, 0.25, ..., 0.25, 0.25, 0.25]])"
      ]
     },
     "execution_count": 52,
     "metadata": {},
     "output_type": "execute_result"
    }
   ],
   "source": [
    "# for E step\n",
    "X = data_matrix(data)\n",
    "prob_den = 0\n",
    "prob_dens = []\n",
    "for i in range(number_of_clusters):\n",
    "    for j in range(len(data)):\n",
    "        q[i][j] = 1/((2 * math.pi) * (np.linalg.det(covariance[i]))**0.5) * np.matmul((X[j] - mean[i]),np.matmul(np.linalg.inv(covariance[i]),(X[j] - mean[i]).T))\n",
    "for j in range(len(data)):\n",
    "    prob_den = 0\n",
    "    for i in range(number_of_clusters):\n",
    "        prob_den += class_probability[i] * q[i][j]\n",
    "    prob_dens.append(prob_den)\n",
    "for i in range(number_of_clusters):\n",
    "    for j in range(len(data)):\n",
    "        p[i][j] = (class_probability[i] * q[i][j])/prob_dens[j]\n",
    "p"
   ]
  },
  {
   "cell_type": "code",
   "execution_count": 53,
   "id": "e9ee9cf6-7e5f-48a0-bd22-93d307db3d2c",
   "metadata": {},
   "outputs": [],
   "source": [
    "# for M step\n",
    "sums = []\n",
    "mean = []\n",
    "covariance = []\n",
    "class_probability = []\n",
    "for i in range(number_of_clusters):\n",
    "    x = 0\n",
    "    for j in range(len(data)):\n",
    "        x += p[i][j]\n",
    "    sums.append(x)\n",
    "for i in range(number_of_clusters):\n",
    "    means = 0\n",
    "    covariances = 0\n",
    "    for j in range(len(data)):\n",
    "        means += p[i][j]*X[j]\n",
    "    means = means/sums[i]\n",
    "    for j in range(len(data)):\n",
    "        covariances += p[i][j] * np.matmul((X[j] - means).T,(X[j] - means))\n",
    "    covariances = covariances/(sums[i] - 1)\n",
    "    mean.append(means)\n",
    "    covariance.append(covariances)\n",
    "    class_probability.append(sums[i]/len(data))\n"
   ]
  },
  {
   "cell_type": "code",
   "execution_count": 58,
   "id": "013f3ed8-83ff-465b-a0de-06fddbbf7628",
   "metadata": {},
   "outputs": [
    {
     "data": {
      "text/plain": [
       "[array([3.97700697, 0.0336856 ]),\n",
       " array([3.97700697, 0.0336856 ]),\n",
       " array([3.97700697, 0.0336856 ]),\n",
       " array([3.97700697, 0.0336856 ])]"
      ]
     },
     "execution_count": 58,
     "metadata": {},
     "output_type": "execute_result"
    }
   ],
   "source": [
    "covariance\n",
    "mean"
   ]
  },
  {
   "cell_type": "code",
   "execution_count": 27,
   "id": "52c49f6a-0ee8-47f8-aff4-b9cca78ef30d",
   "metadata": {},
   "outputs": [
    {
     "data": {
      "text/plain": [
       "1.0"
      ]
     },
     "execution_count": 27,
     "metadata": {},
     "output_type": "execute_result"
    }
   ],
   "source": [
    "np.linalg.det(covariance[0])\n"
   ]
  },
  {
   "cell_type": "code",
   "execution_count": 32,
   "id": "07b8fe73-0ee1-4564-82ed-bdb6c4034149",
   "metadata": {},
   "outputs": [
    {
     "data": {
      "text/plain": [
       "array([2, 3])"
      ]
     },
     "execution_count": 32,
     "metadata": {},
     "output_type": "execute_result"
    }
   ],
   "source": [
    "t = np.array([[1,2],[5,3]])\n",
    "t[:,1]"
   ]
  },
  {
   "cell_type": "code",
   "execution_count": null,
   "id": "973f6dd3-c3c6-4d37-a9e6-13d47830838b",
   "metadata": {},
   "outputs": [],
   "source": []
  }
 ],
 "metadata": {
  "kernelspec": {
   "display_name": "Python 3 (ipykernel)",
   "language": "python",
   "name": "python3"
  },
  "language_info": {
   "codemirror_mode": {
    "name": "ipython",
    "version": 3
   },
   "file_extension": ".py",
   "mimetype": "text/x-python",
   "name": "python",
   "nbconvert_exporter": "python",
   "pygments_lexer": "ipython3",
   "version": "3.10.12"
  }
 },
 "nbformat": 4,
 "nbformat_minor": 5
}
