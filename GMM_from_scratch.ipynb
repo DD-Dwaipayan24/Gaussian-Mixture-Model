{
 "cells": [
  {
   "cell_type": "code",
   "execution_count": 2,
   "id": "3181b07f-3584-4bd6-85de-107938c295d8",
   "metadata": {},
   "outputs": [],
   "source": [
    "#import packages\n",
    "import numpy as np\n",
    "import pandas as pd\n",
    "import matplotlib.pyplot as graph\n",
    "import math\n",
    "import warnings\n",
    "warnings.filterwarnings(\"ignore\")\n"
   ]
  },
  {
   "cell_type": "code",
   "execution_count": 160,
   "id": "23e5be9b-3a35-42d3-ad0f-6e6b73c38cb7",
   "metadata": {},
   "outputs": [
    {
     "name": "stdout",
     "output_type": "stream",
     "text": [
      "0\n",
      "(4, 1600)\n",
      "[[0. 1. 0. ... 0. 0. 0.]\n",
      " [0. 0. 0. ... 0. 0. 0.]\n",
      " [1. 0. 1. ... 1. 1. 1.]\n",
      " [0. 0. 0. ... 0. 0. 0.]]\n",
      "1\n",
      "(4, 1600)\n",
      "[[0. 0. 0. ... 0. 0. 0.]\n",
      " [0. 1. 0. ... 0. 0. 0.]\n",
      " [1. 0. 1. ... 1. 1. 1.]\n",
      " [0. 0. 0. ... 0. 0. 0.]]\n",
      "2\n",
      "(4, 1600)\n",
      "[[1. 0. 0. ... 1. 0. 0.]\n",
      " [0. 1. 0. ... 0. 0. 0.]\n",
      " [0. 0. 1. ... 0. 1. 1.]\n",
      " [0. 0. 0. ... 0. 0. 0.]]\n",
      "3\n",
      "(4, 1600)\n",
      "[[1. 0. 0. ... 1. 0. 0.]\n",
      " [0. 1. 0. ... 0. 0. 0.]\n",
      " [0. 0. 1. ... 0. 1. 0.]\n",
      " [0. 0. 0. ... 0. 0. 1.]]\n",
      "4\n",
      "(4, 1600)\n",
      "[[1. 0. 0. ... 1. 0. 0.]\n",
      " [0. 1. 0. ... 0. 0. 0.]\n",
      " [0. 0. 1. ... 0. 1. 0.]\n",
      " [0. 0. 0. ... 0. 0. 1.]]\n",
      "5\n",
      "(4, 1600)\n",
      "[[1. 0. 0. ... 1. 0. 0.]\n",
      " [0. 1. 0. ... 0. 0. 0.]\n",
      " [0. 0. 1. ... 0. 1. 0.]\n",
      " [0. 0. 0. ... 0. 0. 1.]]\n",
      "6\n",
      "(4, 1600)\n",
      "[[1. 0. 0. ... 1. 0. 0.]\n",
      " [0. 1. 0. ... 0. 0. 0.]\n",
      " [0. 0. 1. ... 0. 1. 0.]\n",
      " [0. 0. 0. ... 0. 0. 1.]]\n",
      "7\n",
      "(4, 1600)\n",
      "[[1. 0. 0. ... 1. 0. 0.]\n",
      " [0. 1. 0. ... 0. 0. 0.]\n",
      " [0. 0. 1. ... 0. 1. 0.]\n",
      " [0. 0. 0. ... 0. 0. 1.]]\n",
      "8\n",
      "(4, 1600)\n",
      "[[1. 0. 0. ... 1. 0. 0.]\n",
      " [0. 1. 0. ... 0. 0. 0.]\n",
      " [0. 0. 1. ... 0. 1. 0.]\n",
      " [0. 0. 0. ... 0. 0. 1.]]\n",
      "9\n",
      "(4, 1600)\n",
      "[[1. 0. 0. ... 1. 0. 0.]\n",
      " [0. 1. 0. ... 0. 0. 0.]\n",
      " [0. 0. 1. ... 0. 1. 0.]\n",
      " [0. 0. 0. ... 0. 0. 1.]]\n"
     ]
    }
   ],
   "source": [
    "class Gaussian_mixture_model:\n",
    "    def __init__(self):\n",
    "        self.n_clusters = None\n",
    "        self.X = None\n",
    "    # data as a matrix format\n",
    "    def data_matrix(self , data):\n",
    "        X = []\n",
    "        for i in range(len(data)):\n",
    "            X.append(np.array(data.iloc[i]))\n",
    "        return (np.matrix(X))\n",
    "\n",
    "    # defining the mean\n",
    "    def mean(self,prob_mat,data):\n",
    "        X = data_matrix(data)\n",
    "        means = []\n",
    "        for i in range(len(prob_mat)):\n",
    "            x = 0\n",
    "            y = 0\n",
    "            for j in range(len(prob_mat[0])):\n",
    "                x += prob_mat[i][j] * X[j].T\n",
    "                y += prob_mat[i][j]\n",
    "            means.append(x/y)\n",
    "        return means\n",
    "\n",
    "    def covariance(self,prob_mat,data):\n",
    "        X = data_matrix(data)\n",
    "        cov = []\n",
    "        means = mean(prob_mat,data)\n",
    "        for i in range(len(prob_mat)):\n",
    "            x = 0\n",
    "            y = 0\n",
    "            for j in range(len(prob_mat[0])):\n",
    "                x += prob_mat[i][j] * np.matmul((X[j].T - means[i]),(X[j].T - means[i]).T)\n",
    "                y += prob_mat[i][j]\n",
    "            cov.append(x/(y-1))\n",
    "        return cov\n",
    "\n",
    "    \n",
    "    #defining multivariate gaussian distribution\n",
    "    def multi_gauss_dis(self,prob_mat , data):\n",
    "        means = mean(prob_mat , data)\n",
    "        cov = covariance(prob_mat , data)\n",
    "        X = data_matrix(data)\n",
    "        Q = np.empty([len(prob_mat) , len(prob_mat[0])])\n",
    "        for i in range(len(prob_mat)):\n",
    "            for j in range(len(prob_mat[0])):\n",
    "                Q[i][j]  = float(1/(2 * math.pi * np.linalg.det(cov[i])*np.matmul((X[j] - means[i].T),np.matmul(np.linalg.inv(cov[i]),(X[j].T - means[i])))))\n",
    "        return Q\n",
    "\n",
    "\n",
    "    #defining probability of each class\n",
    "    def class_probability(self,prob_mat , data):\n",
    "        class_prob = []\n",
    "        for i in range(len(prob_mat)):\n",
    "            x = 0\n",
    "            for j in range(len(prob_mat[0])):\n",
    "                x += prob_mat[i][j]\n",
    "            class_prob.append(x/len(data))\n",
    "        return class_prob\n",
    "\n",
    "\n",
    "    # allocate the class\n",
    "    def calculate_class(self,data , prob_mat):\n",
    "        t = np.zeros([len(prob_mat),len(prob_mat[0])])\n",
    "        X = data_matrix(data)\n",
    "        Q = multi_gauss_dis(prob_mat , data)\n",
    "        prob_class = class_probability(prob_mat , data)\n",
    "        for i in range(len(Q)):\n",
    "            for j in range(len(Q[0])):\n",
    "                Q[i][j] = prob_class[i] * Q[i][j]\n",
    "        x = []\n",
    "        for i in range(len(Q[0])):\n",
    "            x.append(np.argmax(Q[:,i]))\n",
    "        j = 0\n",
    "        for i in range(len(prob_mat[0])):\n",
    "            t[:,i][x[j]] = 1.0\n",
    "            j +=1\n",
    "        return t\n",
    "\n",
    "\n",
    "\n",
    "    def fit(self,prob_mat , data):\n",
    "        for i in range(10):\n",
    "            # E step\n",
    "            prob_mat = calculate_class(data , prob_mat)\n",
    "            print(prob_mat)\n",
    "        return prob_mat\n",
    "t = Gaussian_mixture_model1.fit(data,prob_mat,data)\n",
    "\n",
    "    "
   ]
  },
  {
   "cell_type": "code",
   "execution_count": 91,
   "id": "4045276d-f412-4d45-9e06-11d97431ae19",
   "metadata": {},
   "outputs": [],
   "source": [
    "# defining functions\n",
    "def data_matrix(data):\n",
    "    # data as a matrix format\n",
    "    X = []\n",
    "    for i in range(len(data)):\n",
    "        X.append(np.array(data.iloc[i]))\n",
    "    return (np.matrix(X))\n",
    "\n",
    "# defining the mean\n",
    "def mean(prob_mat,data):\n",
    "    X = data_matrix(data)\n",
    "    means = []\n",
    "    for i in range(len(prob_mat)):\n",
    "        x = 0\n",
    "        y = 0\n",
    "        for j in range(len(prob_mat[0])):\n",
    "            x += prob_mat[i][j] * X[j].T\n",
    "            y += prob_mat[i][j]\n",
    "        means.append(x/y)\n",
    "    return means\n",
    "def covariance(prob_mat,data):\n",
    "    X = data_matrix(data)\n",
    "    cov = []\n",
    "    means = mean(prob_mat,data)\n",
    "    for i in range(len(prob_mat)):\n",
    "        x = 0\n",
    "        y = 0\n",
    "        for j in range(len(prob_mat[0])):\n",
    "            x += prob_mat[i][j] * np.matmul((X[j].T - means[i]),(X[j].T - means[i]).T)\n",
    "            y += prob_mat[i][j]\n",
    "        cov.append(x/(y-1))\n",
    "    return cov\n",
    "        \n",
    "#defining multivariate gaussian distribution\n",
    "def multi_gauss_dis(prob_mat , data):\n",
    "    means = mean(prob_mat , data)\n",
    "    cov = covariance(prob_mat , data)\n",
    "    X = data_matrix(data)\n",
    "    Q = np.empty([len(prob_mat) , len(prob_mat[0])])\n",
    "    # print(np.shape(Q))\n",
    "    for i in range(len(prob_mat)):\n",
    "        for j in range(len(prob_mat[0])):\n",
    "            Q[i][j]  = float(1/(2 * math.pi * np.linalg.det(cov[i])*np.matmul((X[j] - means[i].T),np.matmul(np.linalg.inv(cov[i]),(X[j].T - means[i])))))\n",
    "            # print(Q[i][j])\n",
    "    return Q\n",
    "\n",
    "#defining probability of each class\n",
    "def class_probability(prob_mat , data):\n",
    "    class_prob = []\n",
    "    for i in range(len(prob_mat)):\n",
    "        x = 0\n",
    "        for j in range(len(prob_mat[0])):\n",
    "            x += prob_mat[i][j]\n",
    "        class_prob.append(x/len(data))\n",
    "    return class_prob\n",
    "\n",
    "\n",
    "def calculate_class(data , prob_mat):\n",
    "    t = np.zeros([len(prob_mat),len(prob_mat[0])])\n",
    "    X = data_matrix(data)\n",
    "    Q = multi_gauss_dis(prob_mat , data)\n",
    "    prob_class = class_probability(prob_mat , data)\n",
    "    for i in range(len(Q)):\n",
    "        for j in range(len(Q[0])):\n",
    "            Q[i][j] = prob_class[i] * Q[i][j]\n",
    "    x = []\n",
    "    for i in range(len(Q[0])):\n",
    "        x.append(np.argmax(Q[:,i]))\n",
    "    # print(x)\n",
    "    j = 0\n",
    "    for i in range(len(prob_mat[0])):\n",
    "        t[:,i][x[j]] = 1.0\n",
    "        j +=1\n",
    "    return t\n",
    "def Gaussian_mixture_model(prob_mat , data):\n",
    "    for i in range(10):\n",
    "        # E step\n",
    "        print(i)\n",
    "        prob_mat = calculate_class(data , prob_mat)\n",
    "        print(prob_mat)\n",
    "    return prob_mat"
   ]
  },
  {
   "cell_type": "code",
   "execution_count": 92,
   "id": "361c9277-ba32-49a5-bb67-a065b43e7716",
   "metadata": {},
   "outputs": [
    {
     "name": "stdout",
     "output_type": "stream",
     "text": [
      "0\n",
      "(4, 1600)\n",
      "[[0. 1. 0. ... 0. 0. 0.]\n",
      " [0. 0. 0. ... 0. 0. 0.]\n",
      " [1. 0. 1. ... 1. 1. 1.]\n",
      " [0. 0. 0. ... 0. 0. 0.]]\n",
      "1\n",
      "(4, 1600)\n",
      "[[0. 0. 0. ... 0. 0. 0.]\n",
      " [0. 1. 0. ... 0. 0. 0.]\n",
      " [1. 0. 1. ... 1. 1. 1.]\n",
      " [0. 0. 0. ... 0. 0. 0.]]\n",
      "2\n",
      "(4, 1600)\n",
      "[[1. 0. 0. ... 1. 0. 0.]\n",
      " [0. 1. 0. ... 0. 0. 0.]\n",
      " [0. 0. 1. ... 0. 1. 1.]\n",
      " [0. 0. 0. ... 0. 0. 0.]]\n",
      "3\n",
      "(4, 1600)\n",
      "[[1. 0. 0. ... 1. 0. 0.]\n",
      " [0. 1. 0. ... 0. 0. 0.]\n",
      " [0. 0. 1. ... 0. 1. 0.]\n",
      " [0. 0. 0. ... 0. 0. 1.]]\n",
      "4\n",
      "(4, 1600)\n",
      "[[1. 0. 0. ... 1. 0. 0.]\n",
      " [0. 1. 0. ... 0. 0. 0.]\n",
      " [0. 0. 1. ... 0. 1. 0.]\n",
      " [0. 0. 0. ... 0. 0. 1.]]\n",
      "5\n",
      "(4, 1600)\n",
      "[[1. 0. 0. ... 1. 0. 0.]\n",
      " [0. 1. 0. ... 0. 0. 0.]\n",
      " [0. 0. 1. ... 0. 1. 0.]\n",
      " [0. 0. 0. ... 0. 0. 1.]]\n",
      "6\n",
      "(4, 1600)\n",
      "[[1. 0. 0. ... 1. 0. 0.]\n",
      " [0. 1. 0. ... 0. 0. 0.]\n",
      " [0. 0. 1. ... 0. 1. 0.]\n",
      " [0. 0. 0. ... 0. 0. 1.]]\n",
      "7\n",
      "(4, 1600)\n",
      "[[1. 0. 0. ... 1. 0. 0.]\n",
      " [0. 1. 0. ... 0. 0. 0.]\n",
      " [0. 0. 1. ... 0. 1. 0.]\n",
      " [0. 0. 0. ... 0. 0. 1.]]\n",
      "8\n",
      "(4, 1600)\n",
      "[[1. 0. 0. ... 1. 0. 0.]\n",
      " [0. 1. 0. ... 0. 0. 0.]\n",
      " [0. 0. 1. ... 0. 1. 0.]\n",
      " [0. 0. 0. ... 0. 0. 1.]]\n",
      "9\n",
      "(4, 1600)\n",
      "[[1. 0. 0. ... 1. 0. 0.]\n",
      " [0. 1. 0. ... 0. 0. 0.]\n",
      " [0. 0. 1. ... 0. 1. 0.]\n",
      " [0. 0. 0. ... 0. 0. 1.]]\n",
      "(4, 1600)\n",
      "(4, 1600)\n"
     ]
    }
   ],
   "source": [
    "prob_mat = [[1,0,0,0]*400,[0,1,0,0]*400,[0,0,1,0]*400,[0,0,0,1]*400]\n",
    "t = Gaussian_mixture_model(prob_mat , data)\n",
    "Q = multi_gauss_dis(prob_mat,data)\n",
    "means = mean(prob_mat,data)\n",
    "cov = covariance(prob_mat , data)\n",
    "cal = calculate_class(data , prob_mat)\n",
    "# len(prob_mat)\n"
   ]
  },
  {
   "cell_type": "code",
   "execution_count": 158,
   "id": "ee73d69f-d58f-407c-ad37-682ad45876b0",
   "metadata": {},
   "outputs": [
    {
     "data": {
      "text/plain": [
       "matrix([[1.00493938]])"
      ]
     },
     "execution_count": 158,
     "metadata": {},
     "output_type": "execute_result"
    }
   ],
   "source": [
    "\n",
    "data = pd.read_csv(\"Data1.csv\")\n",
    "data = pd.read_csv(\"Data1.csv\", names = ['x' + str(i+1) for i in range(len(data.columns))])\n",
    "data = data.drop('x1',axis = 1)\n",
    "data =data.drop(0,axis = 0)\n",
    "X = data_matrix(data)\n",
    "X[0][:,0]"
   ]
  },
  {
   "cell_type": "code",
   "execution_count": null,
   "id": "17e368b3-b08b-4a33-9795-06678779d715",
   "metadata": {},
   "outputs": [],
   "source": []
  },
  {
   "cell_type": "code",
   "execution_count": 116,
   "id": "4dd1341e-aeb1-411b-a4fb-71f3ff3b1628",
   "metadata": {},
   "outputs": [
    {
     "data": {
      "image/png": "[encoded data removed]",
      "text/plain": [
       "<Figure size 432x288 with 1 Axes>"
      ]
     },
     "metadata": {
      "needs_background": "light"
     },
     "output_type": "display_data"
    }
   ],
   "source": [
    "# Plotting the data\n",
    "x = [float(X[i][:,0]) for i in range(len(data))]\n",
    "y = [float(X[i][:,1]) for i in range(len(data))]\n",
    "graph.scatter(x,y)\n",
    "graph.xlabel(\"First attrsibute\")\n",
    "graph.ylabel(\"second attribute\")\n",
    "graph.title(\"simple 2D scatter plot\")\n",
    " \n",
    "# show plot\n",
    "graph.show()"
   ]
  },
  {
   "cell_type": "code",
   "execution_count": 161,
   "id": "d7be31eb-bf6b-4680-a6e6-dacc673a290a",
   "metadata": {},
   "outputs": [],
   "source": [
    "cluster_1 = []\n",
    "cluster_2 = []\n",
    "cluster_3 = []\n",
    "cluster_4 = []\n",
    "for i in range(len(data)):\n",
    "    X = data_matrix(data)\n",
    "    if t[:,i][0] == 1:\n",
    "        cluster_1.append(X[i])\n",
    "    if t[:,i][1] == 1:\n",
    "        cluster_2.append(X[i])\n",
    "    if t[:,i][2] == 1:\n",
    "        cluster_3.append(X[i])\n",
    "    if t[:,i][3] == 1:\n",
    "        cluster_4.append(X[i])\n",
    "\n",
    "\n",
    "        \n"
   ]
  },
  {
   "cell_type": "code",
   "execution_count": 96,
   "id": "e9ee9cf6-7e5f-48a0-bd22-93d307db3d2c",
   "metadata": {},
   "outputs": [
    {
     "name": "stdout",
     "output_type": "stream",
     "text": [
      "(401, 1, 2)\n",
      "(398, 1, 2)\n",
      "(400, 1, 2)\n",
      "(401, 1, 2)\n"
     ]
    }
   ],
   "source": [
    "print(np.shape(cluster_1))\n",
    "print(np.shape(cluster_2))\n",
    "print(np.shape(cluster_3))\n",
    "print(np.shape(cluster_4))\n"
   ]
  },
  {
   "cell_type": "code",
   "execution_count": 118,
   "id": "3d4f4424-ea80-4e17-b513-64aa32cf3f82",
   "metadata": {},
   "outputs": [
    {
     "data": {
      "text/plain": [
       "<matplotlib.legend.Legend at 0x7fd77a487eb0>"
      ]
     },
     "execution_count": 118,
     "metadata": {},
     "output_type": "execute_result"
    },
    {
     "data": {
      "image/png": "[encoded data removed]",
      "text/plain": [
       "<Figure size 432x288 with 1 Axes>"
      ]
     },
     "metadata": {
      "needs_background": "light"
     },
     "output_type": "display_data"
    }
   ],
   "source": [
    "graph.scatter([float(i[:,0]) for i in cluster_1],[float(i[:,1]) for i in cluster_1],c = 'r', label = 'cluster 1')\n",
    "graph.scatter([float(i[:,0]) for i in cluster_2],[float(i[:,1]) for i in cluster_2],c = 'b', label = 'cluster 2')\n",
    "graph.scatter([float(i[:,0]) for i in cluster_3],[float(i[:,1]) for i in cluster_3],c = 'g', label = 'cluster 3')\n",
    "graph.scatter([float(i[:,0]) for i in cluster_4],[float(i[:,1]) for i in cluster_4],c = 'y', label = 'cluster 4')\n",
    "graph.xlabel(\"First attrsibute\")\n",
    "graph.ylabel(\"second attribute\")\n",
    "graph.title(\"2D scatter plot\")\n",
    "graph.legend()"
   ]
  },
  {
   "cell_type": "code",
   "execution_count": 101,
   "id": "e2668728-a57b-4014-9e5a-120f880bea15",
   "metadata": {},
   "outputs": [
    {
     "data": {
      "text/plain": [
       "matrix([[0.7028255]])"
      ]
     },
     "execution_count": 101,
     "metadata": {},
     "output_type": "execute_result"
    }
   ],
   "source": [
    "cluster_1[1][:,0]"
   ]
  },
  {
   "cell_type": "code",
   "execution_count": null,
   "id": "de77d6d8-7d87-4a2a-b5f4-7f27bd23d8e3",
   "metadata": {},
   "outputs": [],
   "source": []
  }
 ],
 "metadata": {
  "kernelspec": {
   "display_name": "Python 3 (ipykernel)",
   "language": "python",
   "name": "python3"
  },
  "language_info": {
   "codemirror_mode": {
    "name": "ipython",
    "version": 3
   },
   "file_extension": ".py",
   "mimetype": "text/x-python",
   "name": "python",
   "nbconvert_exporter": "python",
   "pygments_lexer": "ipython3",
   "version": "3.10.12"
  }
 },
 "nbformat": 4,
 "nbformat_minor": 5
}
